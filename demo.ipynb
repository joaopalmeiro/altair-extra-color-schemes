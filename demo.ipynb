{
 "cells": [
  {
   "cell_type": "code",
   "execution_count": null,
   "id": "9d3cec71-1ba6-443b-b881-bd4be5c2a95e",
   "metadata": {},
   "outputs": [],
   "source": [
    "import altair as alt\n",
    "import pandas as pd"
   ]
  },
  {
   "cell_type": "code",
   "execution_count": null,
   "id": "dc0c84a4-6b08-455c-9354-e6327d3c708e",
   "metadata": {},
   "outputs": [],
   "source": [
    "alt.renderers.names()"
   ]
  },
  {
   "cell_type": "code",
   "execution_count": null,
   "id": "c3cab231-382d-484e-adbd-39abc1b2f2b3",
   "metadata": {},
   "outputs": [],
   "source": [
    "alt.renderers.active"
   ]
  },
  {
   "cell_type": "code",
   "execution_count": null,
   "id": "7000a471-27d8-46d9-a5b4-1a1a0f1653c2",
   "metadata": {},
   "outputs": [],
   "source": [
    "alt.renderers.enable(\"extra_color_schemes\")"
   ]
  },
  {
   "cell_type": "code",
   "execution_count": null,
   "id": "994f9b91-0449-4a5b-8a78-362dba43f828",
   "metadata": {},
   "outputs": [],
   "source": [
    "alt.renderers.active"
   ]
  },
  {
   "cell_type": "markdown",
   "id": "70387366-b4dc-400c-a2c0-f02eb72af236",
   "metadata": {},
   "source": [
    "---"
   ]
  },
  {
   "cell_type": "markdown",
   "id": "2bbf59e9-3a3b-48df-8445-68c6f767143b",
   "metadata": {},
   "source": [
    "[Source](https://altair-viz.github.io/gallery/pie_chart.html)"
   ]
  },
  {
   "cell_type": "code",
   "execution_count": null,
   "id": "faf1dcf2-afe9-40c2-bf3d-bc57dd0a3699",
   "metadata": {},
   "outputs": [],
   "source": [
    "source = pd.DataFrame({\"category\": [1, 2, 3, 4, 5, 6], \"value\": [4, 6, 10, 3, 7, 8]})\n",
    "\n",
    "alt.Chart(source).mark_arc().encode(\n",
    "    theta=alt.Theta(\"value:Q\"),\n",
    "    color=alt.Color(\"category:N\", scale=alt.Scale(scheme=\"dvs\")),\n",
    ")"
   ]
  },
  {
   "cell_type": "markdown",
   "id": "89bb1f40-31a7-46a0-9841-ffb071d56e2b",
   "metadata": {},
   "source": [
    "---"
   ]
  }
 ],
 "metadata": {
  "kernelspec": {
   "display_name": "Python 3 (ipykernel)",
   "language": "python",
   "name": "python3"
  },
  "language_info": {
   "codemirror_mode": {
    "name": "ipython",
    "version": 3
   },
   "file_extension": ".py",
   "mimetype": "text/x-python",
   "name": "python",
   "nbconvert_exporter": "python",
   "pygments_lexer": "ipython3",
   "version": "3.7.12"
  }
 },
 "nbformat": 4,
 "nbformat_minor": 5
}

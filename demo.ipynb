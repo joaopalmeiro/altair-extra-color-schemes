{
 "cells": [
  {
   "cell_type": "code",
   "execution_count": 1,
   "id": "9d3cec71-1ba6-443b-b881-bd4be5c2a95e",
   "metadata": {},
   "outputs": [],
   "source": [
    "import altair as alt\n",
    "import pandas as pd"
   ]
  },
  {
   "cell_type": "code",
   "execution_count": 2,
   "id": "dc0c84a4-6b08-455c-9354-e6327d3c708e",
   "metadata": {},
   "outputs": [
    {
     "data": {
      "text/plain": [
       "['colab',\n",
       " 'default',\n",
       " 'extra_color_schemes',\n",
       " 'html',\n",
       " 'json',\n",
       " 'jupyterlab',\n",
       " 'kaggle',\n",
       " 'mimetype',\n",
       " 'nteract',\n",
       " 'png',\n",
       " 'svg',\n",
       " 'zeppelin']"
      ]
     },
     "execution_count": 2,
     "metadata": {},
     "output_type": "execute_result"
    }
   ],
   "source": [
    "alt.renderers.names()"
   ]
  },
  {
   "cell_type": "code",
   "execution_count": 3,
   "id": "c3cab231-382d-484e-adbd-39abc1b2f2b3",
   "metadata": {},
   "outputs": [
    {
     "data": {
      "text/plain": [
       "'default'"
      ]
     },
     "execution_count": 3,
     "metadata": {},
     "output_type": "execute_result"
    }
   ],
   "source": [
    "alt.renderers.active"
   ]
  },
  {
   "cell_type": "code",
   "execution_count": 4,
   "id": "7000a471-27d8-46d9-a5b4-1a1a0f1653c2",
   "metadata": {},
   "outputs": [
    {
     "data": {
      "text/plain": [
       "RendererRegistry.enable('extra_color_schemes')"
      ]
     },
     "execution_count": 4,
     "metadata": {},
     "output_type": "execute_result"
    }
   ],
   "source": [
    "alt.renderers.enable(\"extra_color_schemes\")"
   ]
  },
  {
   "cell_type": "code",
   "execution_count": 5,
   "id": "994f9b91-0449-4a5b-8a78-362dba43f828",
   "metadata": {},
   "outputs": [
    {
     "data": {
      "text/plain": [
       "'extra_color_schemes'"
      ]
     },
     "execution_count": 5,
     "metadata": {},
     "output_type": "execute_result"
    }
   ],
   "source": [
    "alt.renderers.active"
   ]
  },
  {
   "cell_type": "markdown",
   "id": "70387366-b4dc-400c-a2c0-f02eb72af236",
   "metadata": {},
   "source": [
    "---"
   ]
  },
  {
   "cell_type": "code",
   "execution_count": 6,
   "id": "faf1dcf2-afe9-40c2-bf3d-bc57dd0a3699",
   "metadata": {},
   "outputs": [
    {
     "data": {
      "text/html": [
       "\n",
       "<div id=\"altair-viz-7cefdea0165045629224522090b2a0dd\"></div>\n",
       "<script type=\"text/javascript\">\n",
       "  var VEGA_DEBUG = (typeof VEGA_DEBUG == \"undefined\") ? {} : VEGA_DEBUG;\n",
       "  (function(spec, embedOpt){\n",
       "    let outputDiv = document.currentScript.previousElementSibling;\n",
       "    if (outputDiv.id !== \"altair-viz-7cefdea0165045629224522090b2a0dd\") {\n",
       "      outputDiv = document.getElementById(\"altair-viz-7cefdea0165045629224522090b2a0dd\");\n",
       "    }\n",
       "    const paths = {\n",
       "      \"vega\": \"https://cdn.jsdelivr.net/npm//vega@5?noext\",\n",
       "      \"vega-lib\": \"https://cdn.jsdelivr.net/npm//vega-lib?noext\",\n",
       "      \"vega-lite\": \"https://cdn.jsdelivr.net/npm//vega-lite@4.17.0?noext\",\n",
       "      \"vega-embed\": \"https://cdn.jsdelivr.net/npm//vega-embed@6?noext\",\n",
       "    };\n",
       "\n",
       "    function maybeLoadScript(lib, version) {\n",
       "      var key = `${lib.replace(\"-\", \"\")}_version`;\n",
       "      return (VEGA_DEBUG[key] == version) ?\n",
       "        Promise.resolve(paths[lib]) :\n",
       "        new Promise(function(resolve, reject) {\n",
       "          var s = document.createElement('script');\n",
       "          document.getElementsByTagName(\"head\")[0].appendChild(s);\n",
       "          s.async = true;\n",
       "          s.onload = () => {\n",
       "            VEGA_DEBUG[key] = version;\n",
       "            return resolve(paths[lib]);\n",
       "          };\n",
       "          s.onerror = () => reject(`Error loading script: ${paths[lib]}`);\n",
       "          s.src = paths[lib];\n",
       "        });\n",
       "    }\n",
       "\n",
       "    function showError(err) {\n",
       "      outputDiv.innerHTML = `<div class=\"error\" style=\"color:red;\">${err}</div>`;\n",
       "      throw err;\n",
       "    }\n",
       "\n",
       "    function displayChart(vegaEmbed) {\n",
       "      vegaEmbed(outputDiv, spec, embedOpt)\n",
       "        .catch(err => showError(`Javascript Error: ${err.message}<br>This usually means there's a typo in your chart specification. See the javascript console for the full traceback.`));\n",
       "    }\n",
       "\n",
       "    if(typeof define === \"function\" && define.amd) {\n",
       "      requirejs.config({paths});\n",
       "      require([\"vega-embed\"], displayChart, err => showError(`Error loading script: ${err.message}`));\n",
       "    } else {\n",
       "      maybeLoadScript(\"vega\", \"5\")\n",
       "        .then(() => maybeLoadScript(\"vega-lite\", \"4.17.0\"))\n",
       "        .then(() => maybeLoadScript(\"vega-embed\", \"6\"))\n",
       "        .catch(showError)\n",
       "        .then(() => displayChart(vegaEmbed));\n",
       "    }\n",
       "  })({\"config\": {\"view\": {\"continuousWidth\": 400, \"continuousHeight\": 300}}, \"data\": {\"name\": \"data-c9896de6322bcd9cf0fe9396e0b72d16\"}, \"mark\": \"arc\", \"encoding\": {\"color\": {\"field\": \"category\", \"scale\": {\"scheme\": \"dvs\"}, \"type\": \"nominal\"}, \"theta\": {\"field\": \"value\", \"type\": \"quantitative\"}}, \"$schema\": \"https://vega.github.io/schema/vega-lite/v4.17.0.json\", \"datasets\": {\"data-c9896de6322bcd9cf0fe9396e0b72d16\": [{\"category\": 1, \"value\": 4}, {\"category\": 2, \"value\": 6}, {\"category\": 3, \"value\": 10}, {\"category\": 4, \"value\": 3}, {\"category\": 5, \"value\": 7}, {\"category\": 6, \"value\": 8}]}}, {\"mode\": \"vega-lite\"});\n",
       "</script>\n",
       "\n",
       "    <script type=\"text/javascript\">\n",
       "    \n",
       "    vega.scheme('dvs', [\n",
       "        '#26C6DA',\n",
       "        '#112E51',\n",
       "        '#FF7043',\n",
       "        '#78909C',\n",
       "        '#2E78D2',\n",
       "        '#006C7A',\n",
       "        '#FFBEA9',\n",
       "      ]);\n",
       "    </script>"
      ],
      "text/plain": [
       "alt.Chart(...)"
      ]
     },
     "execution_count": 6,
     "metadata": {},
     "output_type": "execute_result"
    }
   ],
   "source": [
    "source = pd.DataFrame({\"category\": [1, 2, 3, 4, 5, 6], \"value\": [4, 6, 10, 3, 7, 8]})\n",
    "\n",
    "alt.Chart(source).mark_arc().encode(\n",
    "    theta=alt.Theta(\"value:Q\"),\n",
    "    color=alt.Color(\"category:N\", scale=alt.Scale(scheme=\"dvs\")),\n",
    ")"
   ]
  },
  {
   "cell_type": "markdown",
   "id": "89bb1f40-31a7-46a0-9841-ffb071d56e2b",
   "metadata": {},
   "source": [
    "---"
   ]
  }
 ],
 "metadata": {
  "kernelspec": {
   "display_name": "Python 3 (ipykernel)",
   "language": "python",
   "name": "python3"
  },
  "language_info": {
   "codemirror_mode": {
    "name": "ipython",
    "version": 3
   },
   "file_extension": ".py",
   "mimetype": "text/x-python",
   "name": "python",
   "nbconvert_exporter": "python",
   "pygments_lexer": "ipython3",
   "version": "3.7.12"
  }
 },
 "nbformat": 4,
 "nbformat_minor": 5
}

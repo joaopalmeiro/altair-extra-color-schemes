{
 "cells": [
  {
   "cell_type": "code",
   "execution_count": null,
   "id": "9d3cec71-1ba6-443b-b881-bd4be5c2a95e",
   "metadata": {},
   "outputs": [],
   "source": [
    "import altair as alt\n",
    "import pandas as pd"
   ]
  },
  {
   "cell_type": "code",
   "execution_count": null,
   "id": "c0bfe609-ea3f-4f46-9f79-a1ffc489fc57",
   "metadata": {},
   "outputs": [],
   "source": [
    "alt.__version__"
   ]
  },
  {
   "cell_type": "code",
   "execution_count": null,
   "id": "dc0c84a4-6b08-455c-9354-e6327d3c708e",
   "metadata": {},
   "outputs": [],
   "source": [
    "alt.renderers.names()"
   ]
  },
  {
   "cell_type": "code",
   "execution_count": null,
   "id": "c3cab231-382d-484e-adbd-39abc1b2f2b3",
   "metadata": {},
   "outputs": [],
   "source": [
    "alt.renderers.active"
   ]
  },
  {
   "cell_type": "code",
   "execution_count": null,
   "id": "7000a471-27d8-46d9-a5b4-1a1a0f1653c2",
   "metadata": {},
   "outputs": [],
   "source": [
    "alt.renderers.enable(\"extra_color_schemes\")"
   ]
  },
  {
   "cell_type": "code",
   "execution_count": null,
   "id": "994f9b91-0449-4a5b-8a78-362dba43f828",
   "metadata": {},
   "outputs": [],
   "source": [
    "alt.renderers.active"
   ]
  },
  {
   "cell_type": "markdown",
   "id": "70387366-b4dc-400c-a2c0-f02eb72af236",
   "metadata": {},
   "source": [
    "---"
   ]
  },
  {
   "cell_type": "markdown",
   "id": "2bbf59e9-3a3b-48df-8445-68c6f767143b",
   "metadata": {},
   "source": [
    "[Source](https://altair-viz.github.io/gallery/pie_chart.html)"
   ]
  },
  {
   "cell_type": "code",
   "execution_count": null,
   "id": "faf1dcf2-afe9-40c2-bf3d-bc57dd0a3699",
   "metadata": {},
   "outputs": [],
   "source": [
    "pie_chart_data = pd.DataFrame(\n",
    "    {\"category\": [1, 2, 3, 4, 5, 6], \"value\": [4, 6, 10, 3, 7, 8]}\n",
    ")"
   ]
  },
  {
   "cell_type": "code",
   "execution_count": null,
   "id": "b0cff7c5-bd83-4eca-9204-a84391dae85d",
   "metadata": {},
   "outputs": [],
   "source": [
    "def gen_pie_chart(color_scheme_name=\"tableau10\"):\n",
    "    return (\n",
    "        alt.Chart(pie_chart_data)\n",
    "        .mark_arc()\n",
    "        .encode(\n",
    "            theta=alt.Theta(\"value:Q\"),\n",
    "            color=alt.Color(\"category:N\", scale=alt.Scale(scheme=color_scheme_name)),\n",
    "        )\n",
    "    )"
   ]
  },
  {
   "cell_type": "markdown",
   "id": "c590b467-eae6-4cd5-97e6-d3f74bc9a6da",
   "metadata": {},
   "source": [
    "[Source](https://vega.github.io/vega-lite/examples/bar_grouped.html) + [Source](https://altair-viz.github.io/gallery/grouped_bar_chart.html)"
   ]
  },
  {
   "cell_type": "code",
   "execution_count": null,
   "id": "aec9ddf4-2318-430a-be87-14fab10b6f8c",
   "metadata": {},
   "outputs": [],
   "source": [
    "grouped_bar_chart_data = pd.DataFrame(\n",
    "    [\n",
    "        {\"category\": \"A\", \"group\": \"x\", \"value\": 0.1},\n",
    "        {\"category\": \"A\", \"group\": \"y\", \"value\": 0.6},\n",
    "        {\"category\": \"A\", \"group\": \"z\", \"value\": 0.9},\n",
    "        {\"category\": \"B\", \"group\": \"x\", \"value\": 0.7},\n",
    "        {\"category\": \"B\", \"group\": \"y\", \"value\": 0.2},\n",
    "        {\"category\": \"B\", \"group\": \"z\", \"value\": 1.1},\n",
    "        {\"category\": \"C\", \"group\": \"x\", \"value\": 0.6},\n",
    "        {\"category\": \"C\", \"group\": \"y\", \"value\": 0.1},\n",
    "        {\"category\": \"C\", \"group\": \"z\", \"value\": 0.2},\n",
    "    ]\n",
    ")"
   ]
  },
  {
   "cell_type": "code",
   "execution_count": null,
   "id": "7d9e7a15-5512-4f6b-9fe0-27fd748434d1",
   "metadata": {},
   "outputs": [],
   "source": [
    "def gen_grouped_bar_chart(color_scheme_name=\"tableau10\"):\n",
    "    return (\n",
    "        alt.Chart(grouped_bar_chart_data)\n",
    "        .mark_bar()\n",
    "        .encode(\n",
    "            x=alt.X(\"group:N\"),\n",
    "            y=alt.Y(\"value:Q\"),\n",
    "            color=alt.Color(\"group:N\", scale=alt.Scale(scheme=color_scheme_name)),\n",
    "            column=alt.Color(\"category:N\"),\n",
    "        )\n",
    "    )"
   ]
  },
  {
   "cell_type": "markdown",
   "id": "89bb1f40-31a7-46a0-9841-ffb071d56e2b",
   "metadata": {},
   "source": [
    "---"
   ]
  },
  {
   "cell_type": "markdown",
   "id": "cc1854c1-2cfe-46de-95df-62fc614cb207",
   "metadata": {},
   "source": [
    "## `\"dvs\"` color scheme"
   ]
  },
  {
   "cell_type": "code",
   "execution_count": null,
   "id": "d173b78c-e6b6-4e9b-be06-b8ed9f192147",
   "metadata": {},
   "outputs": [],
   "source": [
    "gen_pie_chart(color_scheme_name=\"dvs\")"
   ]
  },
  {
   "cell_type": "code",
   "execution_count": null,
   "id": "c1de0bbf-d274-4635-90e1-e96e5cd03992",
   "metadata": {},
   "outputs": [],
   "source": [
    "gen_grouped_bar_chart(color_scheme_name=\"dvs\")"
   ]
  },
  {
   "cell_type": "markdown",
   "id": "5d66d69b-5009-434b-ba06-f092c256850e",
   "metadata": {},
   "source": [
    "## Default color scheme"
   ]
  },
  {
   "cell_type": "code",
   "execution_count": null,
   "id": "db42844e-e5e9-4751-9cb2-7ba2c5ca41ba",
   "metadata": {},
   "outputs": [],
   "source": [
    "gen_pie_chart()"
   ]
  },
  {
   "cell_type": "code",
   "execution_count": null,
   "id": "3df4f2a2-c0cb-46e7-b4ab-32aa14698cd7",
   "metadata": {},
   "outputs": [],
   "source": [
    "gen_grouped_bar_chart()"
   ]
  },
  {
   "cell_type": "markdown",
   "id": "a5e975fa-166c-4ba0-bd6c-0088d42d4246",
   "metadata": {},
   "source": [
    "---"
   ]
  }
 ],
 "metadata": {
  "kernelspec": {
   "display_name": "Python 3 (ipykernel)",
   "language": "python",
   "name": "python3"
  },
  "language_info": {
   "codemirror_mode": {
    "name": "ipython",
    "version": 3
   },
   "file_extension": ".py",
   "mimetype": "text/x-python",
   "name": "python",
   "nbconvert_exporter": "python",
   "pygments_lexer": "ipython3",
   "version": "3.7.12"
  }
 },
 "nbformat": 4,
 "nbformat_minor": 5
}
